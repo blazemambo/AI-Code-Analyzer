{
 "cells": [
  {
   "cell_type": "code",
   "execution_count": 1,
   "id": "ad24523f-9cb4-4729-a7eb-bb5490a82537",
   "metadata": {},
   "outputs": [
    {
     "name": "stdout",
     "output_type": "stream",
     "text": [
      "Requirement already satisfied: flask in c:\\users\\hp\\appdata\\local\\programs\\python\\python312\\lib\\site-packages (3.1.0)Note: you may need to restart the kernel to use updated packages.\n",
      "\n",
      "Requirement already satisfied: pygments in c:\\users\\hp\\appdata\\local\\programs\\python\\python312\\lib\\site-packages (2.18.0)\n",
      "Requirement already satisfied: Werkzeug>=3.1 in c:\\users\\hp\\appdata\\local\\programs\\python\\python312\\lib\\site-packages (from flask) (3.1.3)\n",
      "Requirement already satisfied: Jinja2>=3.1.2 in c:\\users\\hp\\appdata\\local\\programs\\python\\python312\\lib\\site-packages (from flask) (3.1.4)\n",
      "Requirement already satisfied: itsdangerous>=2.2 in c:\\users\\hp\\appdata\\local\\programs\\python\\python312\\lib\\site-packages (from flask) (2.2.0)\n",
      "Requirement already satisfied: click>=8.1.3 in c:\\users\\hp\\appdata\\local\\programs\\python\\python312\\lib\\site-packages (from flask) (8.1.7)\n",
      "Requirement already satisfied: blinker>=1.9 in c:\\users\\hp\\appdata\\local\\programs\\python\\python312\\lib\\site-packages (from flask) (1.9.0)\n",
      "Requirement already satisfied: colorama in c:\\users\\hp\\appdata\\local\\programs\\python\\python312\\lib\\site-packages (from click>=8.1.3->flask) (0.4.6)\n",
      "Requirement already satisfied: MarkupSafe>=2.0 in c:\\users\\hp\\appdata\\local\\programs\\python\\python312\\lib\\site-packages (from Jinja2>=3.1.2->flask) (3.0.2)\n"
     ]
    },
    {
     "name": "stderr",
     "output_type": "stream",
     "text": [
      "\n",
      "[notice] A new release of pip is available: 24.2 -> 24.3.1\n",
      "[notice] To update, run: python.exe -m pip install --upgrade pip\n"
     ]
    }
   ],
   "source": [
    "pip install flask pygments"
   ]
  },
  {
   "cell_type": "code",
   "execution_count": 2,
   "id": "6bd6a250-2328-4eef-a69d-d21f25060c19",
   "metadata": {},
   "outputs": [
    {
     "name": "stdout",
     "output_type": "stream",
     "text": [
      " * Serving Flask app '__main__'\n",
      " * Debug mode: on\n"
     ]
    },
    {
     "name": "stderr",
     "output_type": "stream",
     "text": [
      "WARNING: This is a development server. Do not use it in a production deployment. Use a production WSGI server instead.\n",
      " * Running on http://127.0.0.1:5000\n",
      "Press CTRL+C to quit\n",
      " * Restarting with watchdog (windowsapi)\n"
     ]
    },
    {
     "ename": "SystemExit",
     "evalue": "1",
     "output_type": "error",
     "traceback": [
      "An exception has occurred, use %tb to see the full traceback.\n",
      "\u001b[1;31mSystemExit\u001b[0m\u001b[1;31m:\u001b[0m 1\n"
     ]
    },
    {
     "name": "stderr",
     "output_type": "stream",
     "text": [
      "c:\\Users\\hp\\AppData\\Local\\Programs\\Python\\Python312\\Lib\\site-packages\\IPython\\core\\interactiveshell.py:3585: UserWarning: To exit: use 'exit', 'quit', or Ctrl-D.\n",
      "  warn(\"To exit: use 'exit', 'quit', or Ctrl-D.\", stacklevel=1)\n"
     ]
    }
   ],
   "source": [
    "from flask import Flask, request, jsonify\n",
    "import ast\n",
    "\n",
    "app = Flask(__name__)\n",
    "\n",
    "def analyze_code(code):\n",
    "    \"\"\"\n",
    "    Analyzes the given code snippet for performance bottlenecks.\n",
    "    Returns a list of suggestions.\n",
    "    \"\"\"\n",
    "    suggestions = []\n",
    "    \n",
    "    try:\n",
    "        tree = ast.parse(code)\n",
    "        \n",
    "        for node in ast.walk(tree):\n",
    "            if isinstance(node, ast.For):\n",
    "                if isinstance(node.iter, ast.Call) and node.iter.func.id == \"range\":\n",
    "                    if len(node.iter.args) > 2:  # Checking for range with step\n",
    "                        suggestions.append(\"Consider simplifying range usage in loops.\")\n",
    "                suggestions.append(\"Ensure nested loops are necessary and optimized.\")\n",
    "            \n",
    "            if isinstance(node, ast.FunctionDef):\n",
    "                if len(node.body) > 10:\n",
    "                    suggestions.append(f\"Function '{node.name}' has too many lines; consider refactoring.\")\n",
    "        \n",
    "        if \"import numpy\" in code:\n",
    "            suggestions.append(\"Consider using vectorized operations with NumPy for performance gains.\")\n",
    "    except Exception as e:\n",
    "        suggestions.append(f\"Error analyzing code: {str(e)}\")\n",
    "    \n",
    "    return suggestions\n",
    "\n",
    "@app.route('/analyze', methods=['POST'])\n",
    "def analyze():\n",
    "    code = request.json.get('code', '')\n",
    "    if not code:\n",
    "        return jsonify({\"error\": \"No code provided.\"}), 400\n",
    "    \n",
    "    suggestions = analyze_code(code)\n",
    "    return jsonify({\"suggestions\": suggestions})\n",
    "\n",
    "if __name__ == \"__main__\":\n",
    "    app.run(debug=True)"
   ]
  },
  {
   "cell_type": "code",
   "execution_count": null,
   "id": "ed2e97c7-5296-4024-9a9b-1c6201fc6452",
   "metadata": {},
   "outputs": [],
   "source": []
  }
 ],
 "metadata": {
  "kernelspec": {
   "display_name": "Python 3",
   "language": "python",
   "name": "python3"
  },
  "language_info": {
   "codemirror_mode": {
    "name": "ipython",
    "version": 3
   },
   "file_extension": ".py",
   "mimetype": "text/x-python",
   "name": "python",
   "nbconvert_exporter": "python",
   "pygments_lexer": "ipython3",
   "version": "3.12.5"
  }
 },
 "nbformat": 4,
 "nbformat_minor": 5
}
